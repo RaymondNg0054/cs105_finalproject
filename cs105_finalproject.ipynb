{
  "nbformat": 4,
  "nbformat_minor": 0,
  "metadata": {
    "colab": {
      "provenance": []
    },
    "kernelspec": {
      "name": "python3",
      "display_name": "Python 3"
    },
    "language_info": {
      "name": "python"
    }
  },
  "cells": [
    {
      "cell_type": "markdown",
      "source": [
        "\n",
        "# Project Proposal\n",
        "To begin, we are interested in exploring a dataset from Spotify that contains a little over 32,000 songs. This dataset contains metadata about each song such as their key, loudness, tempo, etc. Our main objective is to see if we can determine the genre of each song based on the various features that each song's metadata provides. We plan on using the K-Nearest Neighbors algorithm to classify/predict each song's genre.  "
      ],
      "metadata": {
        "id": "suk7UkWBAD7Y"
      }
    },
    {
      "cell_type": "markdown",
      "source": [
        "# Data Collection & Cleaning"
      ],
      "metadata": {
        "id": "9J3fOfvRCUyg"
      }
    },
    {
      "cell_type": "markdown",
      "source": [
        "# EDA"
      ],
      "metadata": {
        "id": "oDs3SSH2Cj6M"
      }
    }
  ]
}