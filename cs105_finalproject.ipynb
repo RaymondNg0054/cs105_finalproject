{
  "cells": [
    {
      "cell_type": "markdown",
      "metadata": {
        "id": "27hziH1jgpuB"
      },
      "source": [
        "# CS105 Final Project\n",
        "By: Dexter (Yiu Ming) Wong, Irene Kim, Raymond Ng, Aaron Bantay, Jenhua Chang"
      ]
    },
    {
      "cell_type": "markdown",
      "metadata": {
        "id": "suk7UkWBAD7Y"
      },
      "source": [
        "\n",
        "# Project Proposal\n",
        "To begin, we are interested in exploring a dataset from Spotify that contains a little over 32,000 songs. This dataset contains metadata about each song such as their key, loudness, tempo, etc. Our main objective is to see if we can determine the genre of each song based on the various features that each song's metadata provides. We plan on using the K-Nearest Neighbors algorithm to classify/predict each song's genre.  "
      ]
    },
    {
      "cell_type": "markdown",
      "metadata": {
        "id": "9J3fOfvRCUyg"
      },
      "source": [
        "# Data Collection & Cleaning"
      ]
    },
    {
      "cell_type": "markdown",
      "metadata": {
        "id": "oDs3SSH2Cj6M"
      },
      "source": [
        "# EDA"
      ]
    },
    {
      "cell_type": "code",
      "execution_count": 1,
      "metadata": {
        "colab": {
          "base_uri": "https://localhost:8080/",
          "height": 285
        },
        "id": "Nk8K1YSTFZwn",
        "outputId": "04722cbe-e82f-4c25-87cc-5b026f6f103e"
      },
      "outputs": [
        {
          "ename": "ImportError",
          "evalue": "No module named pandas",
          "output_type": "error",
          "traceback": [
            "\u001b[0;31m\u001b[0m",
            "\u001b[0;31mImportError\u001b[0mTraceback (most recent call last)",
            "\u001b[0;32m<ipython-input-1-e965fb99470b>\u001b[0m in \u001b[0;36m<module>\u001b[0;34m()\u001b[0m\n\u001b[0;32m----> 1\u001b[0;31m \u001b[0;32mimport\u001b[0m \u001b[0mpandas\u001b[0m \u001b[0;32mas\u001b[0m \u001b[0mpd\u001b[0m\u001b[0;34m\u001b[0m\u001b[0m\n\u001b[0m\u001b[1;32m      2\u001b[0m \u001b[0;32mimport\u001b[0m \u001b[0mnumpy\u001b[0m \u001b[0;32mas\u001b[0m \u001b[0mnp\u001b[0m\u001b[0;34m\u001b[0m\u001b[0m\n\u001b[1;32m      3\u001b[0m \u001b[0;32mimport\u001b[0m \u001b[0mseaborn\u001b[0m \u001b[0;32mas\u001b[0m \u001b[0msns\u001b[0m\u001b[0;34m\u001b[0m\u001b[0m\n\u001b[1;32m      4\u001b[0m \u001b[0;32mimport\u001b[0m \u001b[0mmatplotlib\u001b[0m\u001b[0;34m.\u001b[0m\u001b[0mpyplot\u001b[0m \u001b[0;32mas\u001b[0m \u001b[0mplt\u001b[0m\u001b[0;34m\u001b[0m\u001b[0m\n\u001b[1;32m      5\u001b[0m \u001b[0;32mfrom\u001b[0m \u001b[0msklearn\u001b[0m\u001b[0;34m.\u001b[0m\u001b[0mneighbors\u001b[0m \u001b[0;32mimport\u001b[0m \u001b[0mKNeighborsClassifier\u001b[0m\u001b[0;34m\u001b[0m\u001b[0m\n",
            "\u001b[0;31mImportError\u001b[0m: No module named pandas"
          ]
        }
      ],
      "source": [
        "import pandas as pd\n",
        "import numpy as np\n",
        "import seaborn as sns\n",
        "import matplotlib.pyplot as plt\n",
        "from sklearn.neighbors import KNeighborsClassifier\n",
        "from sklearn.model_selection import train_test_split\n",
        "\n",
        "\n",
        "df = pd.read_csv(\"spotify_songs.csv\")\n",
        "df = df.iloc[:,[1,9,11,12,13,14,15,16,17,18,19,20,21,22]]\n",
        "df.head()"
      ]
    },
    {
      "cell_type": "markdown",
      "metadata": {
        "id": "orbb5sO9Gx_Y"
      },
      "source": [
        "## Statistical Analysis\n",
        "Let's start by first analyzing all of our songs at once. \n",
        "\n",
        "We will first begin by calculating the distribution of our data.\n"
      ]
    },
    {
      "cell_type": "code",
      "execution_count": null,
      "metadata": {
        "colab": {
          "base_uri": "https://localhost:8080/",
          "height": 283
        },
        "id": "SQqDLJuBHHyx",
        "outputId": "46c3d109-8a62-456e-fd5f-c3ad8a4879c1"
      },
      "outputs": [],
      "source": [
        "df.describe()"
      ]
    },
    {
      "cell_type": "code",
      "execution_count": null,
      "metadata": {},
      "outputs": [],
      "source": [
        "sns.set_theme(style=\"whitegrid\")\n",
        "songFreq = sns.countplot(x=df[\"playlist_genre\"])\n",
        "\n",
        "songFreq.set(xlabel='Genres',\n",
        "       ylabel='Amount in Genre',\n",
        "       title='Count of Songs in a Genre')\n",
        "\n",
        "plt.show()"
      ]
    },
    {
      "cell_type": "markdown",
      "metadata": {},
      "source": [
        "From the countplot shown above, we can see that out of all the genres avaiable to us within the dataset, EDM songs appear the most, while latin songs appear the least."
      ]
    },
    {
      "cell_type": "markdown",
      "metadata": {
        "id": "Xy2DD2R6gAQl"
      },
      "source": [
        "To garner a better understanding of each music genre, we look at each one individually and observe how the different auditory features reveal themselves. We have 6 main genres that we will be focusing on: pop, rap, rock, latin, r&b, and edm. \n",
        "\n",
        "We will show each feature on a bar graph."
      ]
    },
    {
      "cell_type": "code",
      "execution_count": null,
      "metadata": {},
      "outputs": [],
      "source": [
        "X = df.groupby('playlist_genre')['danceability'].mean().plot.bar()\n",
        "plt.title(\"Danceability Feature by Genre\")\n",
        "plt.xlabel(\"Genre\")\n",
        "plt.ylabel(\"Danceability Feature\")\n",
        "plt.show()"
      ]
    },
    {
      "cell_type": "markdown",
      "metadata": {},
      "source": [
        "The 'Danceability' feature is measured with the auditory elements- tempo, rhythm stability, beat strength, and overall regularity- and is scaled from 0.0 being the least danceable and 1.0 being most danceable."
      ]
    },
    {
      "cell_type": "code",
      "execution_count": null,
      "metadata": {},
      "outputs": [],
      "source": [
        "X = df.groupby('playlist_genre')['energy'].mean().plot.bar()\n",
        "plt.title(\"Energy Feature by Genre\")\n",
        "plt.xlabel(\"Genre\")\n",
        "plt.ylabel(\"Energy Feature\")\n",
        "plt.show()"
      ]
    },
    {
      "cell_type": "markdown",
      "metadata": {},
      "source": [
        "The 'Energy' feature is measured with the auditory elements- dynamic range, perceived loudness, timbre, onset rate, and general entropy. These tracks are generally characterized with fast tempos and aggressive decibal output. This feature is scaled from a score of 0.0 to 1.0 representing a attempt to quantify measures of intensity and activity."
      ]
    },
    {
      "cell_type": "code",
      "execution_count": null,
      "metadata": {},
      "outputs": [],
      "source": [
        "X = df.groupby('playlist_genre')['key'].mean().plot.bar()\n",
        "plt.title(\"Key Feature by Genre\")\n",
        "plt.xlabel(\"Genre\")\n",
        "plt.ylabel(\"Key Feature\")\n",
        "plt.show()"
      ]
    },
    {
      "cell_type": "markdown",
      "metadata": {},
      "source": [
        "The 'Key' feature is measured by mapping pitches to find the overall key of the track. In the case that one key is not most prominent, the value is -1."
      ]
    },
    {
      "cell_type": "code",
      "execution_count": null,
      "metadata": {},
      "outputs": [],
      "source": [
        "X = df.groupby('playlist_genre')['loudness'].mean().plot.bar()\n",
        "plt.title(\"Loudness Feature by Genre\")\n",
        "plt.xlabel(\"Genre\")\n",
        "plt.ylabel(\"Loudness Feature\")\n",
        "plt.show()"
      ]
    },
    {
      "cell_type": "markdown",
      "metadata": {},
      "source": [
        "The 'Loudness' feature is measured by finding the average loudness of a track in decibels, typically falling within the range from -60 and 0dB."
      ]
    },
    {
      "cell_type": "code",
      "execution_count": null,
      "metadata": {},
      "outputs": [],
      "source": [
        "X = df.groupby('playlist_genre')['mode'].mean().plot.bar()\n",
        "plt.title(\"Mode Feature by Genre\")\n",
        "plt.xlabel(\"Genre\")\n",
        "plt.ylabel(\"Mode Feature\")\n",
        "plt.show()"
      ]
    },
    {
      "cell_type": "markdown",
      "metadata": {},
      "source": [
        "The 'Mode' feature is measured by attempting to classify the track's modality. Its identification of being either a major or a minor track gives a slight hint of the mood of the song and could be important. This feature scale system is binary- with 1 representing a Major track and 0 representing a Minor one."
      ]
    },
    {
      "cell_type": "code",
      "execution_count": null,
      "metadata": {},
      "outputs": [],
      "source": [
        "X = df.groupby('playlist_genre')['speechiness'].mean().plot.bar()\n",
        "plt.title(\"Speechiness Feature by Genre\")\n",
        "plt.xlabel(\"Genre\")\n",
        "plt.ylabel(\"Speechiness Feature\")\n",
        "plt.show()"
      ]
    },
    {
      "cell_type": "markdown",
      "metadata": {},
      "source": [
        "The 'Speechiness' feature is measured by detecting the presence of spoken words in a track. The scale goes up to 1.0 when more speech exists within the audiofile. "
      ]
    },
    {
      "cell_type": "code",
      "execution_count": null,
      "metadata": {},
      "outputs": [],
      "source": [
        "X = df.groupby('playlist_genre')['acousticness'].mean().plot.bar()\n",
        "plt.title(\"Acoustic Feature by Genre\")\n",
        "plt.xlabel(\"Genre\")\n",
        "plt.ylabel(\"Acoustic Feature\")\n",
        "plt.show()"
      ]
    },
    {
      "cell_type": "markdown",
      "metadata": {},
      "source": [
        "The 'Acousticness' feature is measured on whether the track is acoustic on a scale of 0.0 to 1.0 with the latter value representing a higher levels of acoustic features."
      ]
    },
    {
      "cell_type": "code",
      "execution_count": null,
      "metadata": {},
      "outputs": [],
      "source": [
        "X = df.groupby('playlist_genre')['Instrumentalness'].mean().plot.bar()\n",
        "plt.title(\"Instrumentalness Feature by Genre\")\n",
        "plt.xlabel(\"Genre\")\n",
        "plt.ylabel(\"Instrumentalness Feature\")\n",
        "plt.show()"
      ]
    },
    {
      "cell_type": "code",
      "execution_count": null,
      "metadata": {},
      "outputs": [],
      "source": [
        "X = df.groupby('playlist_genre')['liveness'].mean().plot.bar()\n",
        "plt.title(\"Liveness Feature by Genre\")\n",
        "plt.xlabel(\"Genre\")\n",
        "plt.ylabel(\"Liveness Feature\")\n",
        "plt.show()"
      ]
    },
    {
      "cell_type": "markdown",
      "metadata": {},
      "source": []
    },
    {
      "cell_type": "code",
      "execution_count": null,
      "metadata": {},
      "outputs": [],
      "source": [
        "X = df.groupby('playlist_genre')['valence'].mean().plot.bar()\n",
        "plt.title(\"Valence Feature by Genre\")\n",
        "plt.xlabel(\"Genre\")\n",
        "plt.ylabel(\"Valence Feature\")\n",
        "plt.show()"
      ]
    },
    {
      "cell_type": "code",
      "execution_count": null,
      "metadata": {},
      "outputs": [],
      "source": [
        "X = df.groupby('playlist_genre')['duration_ms'].mean().plot.bar()\n",
        "plt.title(\"Duration Feature by Genre\")\n",
        "plt.xlabel(\"Genre\")\n",
        "plt.ylabel(\"Duration Feature\")\n",
        "plt.show()"
      ]
    },
    {
      "cell_type": "code",
      "execution_count": null,
      "metadata": {
        "colab": {
          "base_uri": "https://localhost:8080/",
          "height": 1000
        },
        "id": "iASxMMxngDPl",
        "outputId": "637df716-7043-4a20-ab9d-a737036d399b"
      },
      "outputs": [],
      "source": [
        "\n",
        "X = df.groupby('playlist_genre')['tempo'].mean().plot.bar()\n",
        "plt.title(\"Tempo Feature by Genre\")\n",
        "plt.xlabel(\"Genre\")\n",
        "plt.ylabel(\"Tempo Feature\")\n",
        "plt.show()"
      ]
    },
    {
      "cell_type": "code",
      "execution_count": null,
      "metadata": {},
      "outputs": [],
      "source": []
    },
    {
      "cell_type": "markdown",
      "metadata": {
        "id": "pt2-HDgSH98e"
      },
      "source": [
        "Based on this distribution, we can see that the songs have a wide range of each feature.\n",
        "\n",
        "Let's focus on the tempo for each song for now. "
      ]
    },
    {
      "cell_type": "code",
      "execution_count": null,
      "metadata": {
        "colab": {
          "base_uri": "https://localhost:8080/",
          "height": 410
        },
        "id": "3pvJuuDXKcTq",
        "outputId": "549b896f-c815-4696-c3eb-de894621aa8a"
      },
      "outputs": [],
      "source": [
        "plt.figure(figsize=(8, 6))\n",
        "df['tempo'].plot(kind='hist')\n",
        "\n",
        "# Add a title and labels for the x and y axes\n",
        "plt.title('Distribution of Tempo Values')\n",
        "plt.xlabel('Tempo (bpm)')\n",
        "plt.ylabel('Frequency')\n",
        "\n",
        "# Show the plot\n",
        "plt.show()\n"
      ]
    },
    {
      "cell_type": "markdown",
      "metadata": {
        "id": "P2PPAHF5Lfn6"
      },
      "source": [
        "We can see that the vast majority of songs will have a tempo of 100 - 150 BPM. The outliers will have a slow tempo that bottoms out at around 50 BPM and the highest will be around 240. \n",
        "\n",
        "Next, we can look at speechiness and see if there is anything of interest there."
      ]
    },
    {
      "cell_type": "code",
      "execution_count": null,
      "metadata": {
        "colab": {
          "base_uri": "https://localhost:8080/",
          "height": 518
        },
        "id": "phXKRP3SL1LM",
        "outputId": "094e5a66-8470-44da-8b7c-7b269d53f6cc"
      },
      "outputs": [],
      "source": [
        "# Create the scatterplot\n",
        "plt.figure(figsize=(15, 8))\n",
        "sns.scatterplot(x=df.index, y='speechiness', data=df)\n",
        "\n",
        "# Add a title and labels for the x and y axes\n",
        "plt.title('Distribution of Speechiness Values')\n",
        "plt.xlabel('Index')\n",
        "plt.ylabel('Speechiness')\n",
        "# Show the plot\n",
        "plt.show()"
      ]
    },
    {
      "cell_type": "markdown",
      "metadata": {
        "id": "RTfqEKYmP-v2"
      },
      "source": [
        "Interestingly enough there is a sharp drop off in speechiness shortly after the 10,000th song. Otherwise, it seems that most songs will have a speechiness of around 0.4 or lower. \n",
        "\n",
        "Maybe we will see something if compare the speechiness and the tempo metrics."
      ]
    },
    {
      "cell_type": "code",
      "execution_count": null,
      "metadata": {
        "colab": {
          "base_uri": "https://localhost:8080/",
          "height": 454
        },
        "id": "qh-VxKbaQb8l",
        "outputId": "90128a51-b83b-483d-d0cc-bb9142e330c4"
      },
      "outputs": [],
      "source": [
        "# Create the Smooth Kernel Density plot with marginal histograms\n",
        "plt.figure(figsize=(15, 8))\n",
        "\n",
        "sns.set_theme(style=\"white\")\n",
        "g = sns.jointplot(x='speechiness', y='tempo', data=df, kind='kde')\n",
        "g.fig.set_facecolor('white')\n",
        "\n",
        "# Add a title\n",
        "plt.title('Distribution of Speechiness and Tempo Values')\n",
        "g.plot_joint(sns.kdeplot,\n",
        "             fill=True,\n",
        "             shade=True,\n",
        "             thresh=0, cmap=\"rocket\")\n",
        "g.plot_marginals(sns.histplot, color=\"#03051A\", alpha=1, bins=25)\n",
        "\n",
        "# Show the plot\n",
        "plt.show()"
      ]
    },
    {
      "cell_type": "code",
      "execution_count": null,
      "metadata": {
        "colab": {
          "base_uri": "https://localhost:8080/"
        },
        "id": "ZvX2OXY_Qnxv",
        "outputId": "0cf95c6f-7835-4939-bd53-d2da4f329523"
      },
      "outputs": [],
      "source": [
        "\n",
        "# If the dataset does not have a \"playlist_genre\" column, create one\n",
        "if \"playlist_genre\" not in df.columns:\n",
        "    df[\"playlist_genre\"] = \"unknown\"\n",
        "\n",
        "# Select the speechiness and tempo columns as our features\n",
        "X = df[[\"speechiness\", \"tempo\"]]\n",
        "\n",
        "# Define the target variable (the column we want to predict)\n",
        "y = df[\"playlist_genre\"]\n",
        "\n",
        "# Split the data into training and test sets\n",
        "X_train, X_test, y_train, y_test = train_test_split(X, y, test_size=0.2, random_state=42)\n",
        "\n",
        "# Create the KNN model with 3 neighbors\n",
        "knn = KNeighborsClassifier(n_neighbors=3)\n",
        "\n",
        "# Fit the model to the training data\n",
        "knn.fit(X_train, y_train)\n",
        "\n",
        "# Evaluate the model on the test data\n",
        "accuracy = knn.score(X_test, y_test)\n",
        "print(\"Accuracy:\", accuracy)"
      ]
    },
    {
      "cell_type": "markdown",
      "metadata": {
        "id": "J3uAWjwi4DrY"
      },
      "source": [
        "NOTE: THIS CODE IS JUST ME PLAYING AROUND TESTING WHICH FEATURES WORK BEST \n",
        "\n",
        "\n",
        "This code tests the \"speechiness\" and \"tempo\" features using KNN to predict the genre of the song. The output is the accuracy of these two features predictions compared to what is the song's actual genre."
      ]
    }
  ],
  "metadata": {
    "colab": {
      "authorship_tag": "ABX9TyMdciRA7UhRQyE3fqE3qwcS",
      "provenance": []
    },
    "kernelspec": {
      "display_name": "Python 2.7.18 64-bit",
      "language": "python",
      "name": "python3"
    },
    "language_info": {
      "codemirror_mode": {
        "name": "ipython",
        "version": 2
      },
      "file_extension": ".py",
      "mimetype": "text/x-python",
      "name": "python",
      "nbconvert_exporter": "python",
      "pygments_lexer": "ipython2",
      "version": "2.7.18"
    },
    "vscode": {
      "interpreter": {
        "hash": "f92b2924b84ff19c1c3dc485f7644d4486f64738191026bf8e6de303969141b5"
      }
    }
  },
  "nbformat": 4,
  "nbformat_minor": 0
}
